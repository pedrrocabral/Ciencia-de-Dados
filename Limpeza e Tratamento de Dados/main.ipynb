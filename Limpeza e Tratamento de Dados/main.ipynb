{
 "cells": [
  {
   "cell_type": "code",
   "execution_count": 76,
   "metadata": {},
   "outputs": [],
   "source": [
    "import pandas as pd\n",
    "import seaborn as srn\n",
    "import statistics  as sts"
   ]
  },
  {
   "cell_type": "code",
   "execution_count": 77,
   "metadata": {},
   "outputs": [],
   "source": [
    "# IMPORTAÇÂO DOS DADOS\n",
    "data = pd.read_csv(r'tempo.csv', sep= ';')"
   ]
  },
  {
   "cell_type": "code",
   "execution_count": 78,
   "metadata": {},
   "outputs": [
    {
     "data": {
      "text/html": [
       "<div>\n",
       "<style scoped>\n",
       "    .dataframe tbody tr th:only-of-type {\n",
       "        vertical-align: middle;\n",
       "    }\n",
       "\n",
       "    .dataframe tbody tr th {\n",
       "        vertical-align: top;\n",
       "    }\n",
       "\n",
       "    .dataframe thead th {\n",
       "        text-align: right;\n",
       "    }\n",
       "</style>\n",
       "<table border=\"1\" class=\"dataframe\">\n",
       "  <thead>\n",
       "    <tr style=\"text-align: right;\">\n",
       "      <th></th>\n",
       "      <th>Aparencia</th>\n",
       "      <th>Temperatura</th>\n",
       "      <th>Umidade</th>\n",
       "      <th>Vento</th>\n",
       "      <th>Jogar</th>\n",
       "    </tr>\n",
       "  </thead>\n",
       "  <tbody>\n",
       "    <tr>\n",
       "      <th>0</th>\n",
       "      <td>sol</td>\n",
       "      <td>85</td>\n",
       "      <td>85.0</td>\n",
       "      <td>FALSO</td>\n",
       "      <td>nao</td>\n",
       "    </tr>\n",
       "    <tr>\n",
       "      <th>1</th>\n",
       "      <td>sol</td>\n",
       "      <td>80</td>\n",
       "      <td>90.0</td>\n",
       "      <td>VERDADEIRO</td>\n",
       "      <td>nao</td>\n",
       "    </tr>\n",
       "    <tr>\n",
       "      <th>2</th>\n",
       "      <td>nublado</td>\n",
       "      <td>83</td>\n",
       "      <td>86.0</td>\n",
       "      <td>FALSO</td>\n",
       "      <td>sim</td>\n",
       "    </tr>\n",
       "    <tr>\n",
       "      <th>3</th>\n",
       "      <td>chuva</td>\n",
       "      <td>70</td>\n",
       "      <td>NaN</td>\n",
       "      <td>FALSO</td>\n",
       "      <td>sim</td>\n",
       "    </tr>\n",
       "    <tr>\n",
       "      <th>4</th>\n",
       "      <td>chuva</td>\n",
       "      <td>68</td>\n",
       "      <td>80.0</td>\n",
       "      <td>FALSO</td>\n",
       "      <td>sim</td>\n",
       "    </tr>\n",
       "  </tbody>\n",
       "</table>\n",
       "</div>"
      ],
      "text/plain": [
       "  Aparencia  Temperatura  Umidade       Vento Jogar\n",
       "0       sol           85     85.0       FALSO   nao\n",
       "1       sol           80     90.0  VERDADEIRO   nao\n",
       "2   nublado           83     86.0       FALSO   sim\n",
       "3     chuva           70      NaN       FALSO   sim\n",
       "4     chuva           68     80.0       FALSO   sim"
      ]
     },
     "execution_count": 78,
     "metadata": {},
     "output_type": "execute_result"
    }
   ],
   "source": [
    "# VIZUALIZAÇÃO DOS DADOS\n",
    "data.head()"
   ]
  },
  {
   "cell_type": "code",
   "execution_count": 79,
   "metadata": {},
   "outputs": [
    {
     "name": "stdout",
     "output_type": "stream",
     "text": [
      "<class 'pandas.core.frame.DataFrame'>\n",
      "RangeIndex: 14 entries, 0 to 13\n",
      "Data columns (total 5 columns):\n",
      " #   Column       Non-Null Count  Dtype  \n",
      "---  ------       --------------  -----  \n",
      " 0   Aparencia    14 non-null     object \n",
      " 1   Temperatura  14 non-null     int64  \n",
      " 2   Umidade      13 non-null     float64\n",
      " 3   Vento        13 non-null     object \n",
      " 4   Jogar        14 non-null     object \n",
      "dtypes: float64(1), int64(1), object(3)\n",
      "memory usage: 688.0+ bytes\n"
     ]
    }
   ],
   "source": [
    "data.info()"
   ]
  },
  {
   "cell_type": "code",
   "execution_count": 80,
   "metadata": {},
   "outputs": [
    {
     "data": {
      "text/plain": [
       "Aparencia      0\n",
       "Temperatura    0\n",
       "Umidade        1\n",
       "Vento          1\n",
       "Jogar          0\n",
       "dtype: int64"
      ]
     },
     "execution_count": 80,
     "metadata": {},
     "output_type": "execute_result"
    }
   ],
   "source": [
    "# VERIFICAÇÃO DOS DADOS NULOS\n",
    "data.isnull().sum()"
   ]
  },
  {
   "cell_type": "code",
   "execution_count": 81,
   "metadata": {},
   "outputs": [
    {
     "name": "stdout",
     "output_type": "stream",
     "text": [
      "Aparencia\n",
      "chuva      5\n",
      "menos      1\n",
      "nublado    3\n",
      "sol        5\n",
      "dtype: int64 \n",
      "CAMPOS NULOS 0\n"
     ]
    }
   ],
   "source": [
    "# ANÁLISE DA COLUNA APARÊNCIA\n",
    "print(data.groupby(by=['Aparencia']).size(),'\\nCAMPOS NULOS', data['Aparencia'].isnull().sum())"
   ]
  },
  {
   "cell_type": "code",
   "execution_count": 82,
   "metadata": {},
   "outputs": [],
   "source": [
    "# TRATAMENTO DA COLUNA APARÊNCIA\n",
    "data.loc[data['Aparencia'] == 'menos', 'Aparencia'] = sts.mode(data['Aparencia'])"
   ]
  },
  {
   "cell_type": "code",
   "execution_count": 83,
   "metadata": {},
   "outputs": [
    {
     "name": "stdout",
     "output_type": "stream",
     "text": [
      "Temperatura\n",
      "64      1\n",
      "65      1\n",
      "68      1\n",
      "69      1\n",
      "70      1\n",
      "71      1\n",
      "72      1\n",
      "75      2\n",
      "80      1\n",
      "81      1\n",
      "83      1\n",
      "85      1\n",
      "1220    1\n",
      "dtype: int64 \n",
      "CAMPOS NULOS 0\n"
     ]
    }
   ],
   "source": [
    "# ANÁLISE DA COLUNA TEMPERATURA\n",
    "print(data.groupby(by=['Temperatura']).size(),'\\nCAMPOS NULOS', data['Temperatura'].isnull().sum())"
   ]
  },
  {
   "cell_type": "code",
   "execution_count": 84,
   "metadata": {},
   "outputs": [],
   "source": [
    "# TRATAMENTO DA COLUNA TEMPERATURA\n",
    "data.loc[(data['Temperatura'] > 130) | (data['Temperatura'] < -130), 'Temperatura'] = sts.median(data['Temperatura'])"
   ]
  },
  {
   "cell_type": "code",
   "execution_count": 85,
   "metadata": {},
   "outputs": [
    {
     "name": "stdout",
     "output_type": "stream",
     "text": [
      "Umidade\n",
      "65.0     1\n",
      "70.0     3\n",
      "75.0     1\n",
      "80.0     1\n",
      "85.0     1\n",
      "86.0     1\n",
      "90.0     2\n",
      "91.0     1\n",
      "95.0     1\n",
      "200.0    1\n",
      "dtype: int64 \n",
      "CAMPOS NULOS 1\n"
     ]
    }
   ],
   "source": [
    "# ANÁLISE DA COLUNA UMIDADE\n",
    "print(data.groupby(by=['Umidade']).size(),'\\nCAMPOS NULOS', data['Umidade'].isnull().sum())"
   ]
  },
  {
   "cell_type": "code",
   "execution_count": 86,
   "metadata": {},
   "outputs": [],
   "source": [
    "# TRATAMENTO DA COLUNA UMIDADE\n",
    "data.loc[(data['Umidade'] > 100) | (data['Umidade'] < 0), 'Umidade'] = sts.median(data['Umidade'])\n",
    "data['Umidade'].fillna(sts.median(data['Umidade']), inplace=True)"
   ]
  },
  {
   "cell_type": "code",
   "execution_count": 87,
   "metadata": {},
   "outputs": [
    {
     "name": "stdout",
     "output_type": "stream",
     "text": [
      "Vento\n",
      "FALSO         7\n",
      "VERDADEIRO    6\n",
      "dtype: int64 \n",
      "CAMPOS NULOS 1\n"
     ]
    }
   ],
   "source": [
    "# ANÁLISE DA COLUNA VENTO\n",
    "print(data.groupby(by=['Vento']).size(),'\\nCAMPOS NULOS', data['Vento'].isnull().sum())"
   ]
  },
  {
   "cell_type": "code",
   "execution_count": 88,
   "metadata": {},
   "outputs": [],
   "source": [
    "# TRATAMENTO DA COLUNA VENTO\n",
    "data['Vento'].fillna(sts.mode(data['Vento']), inplace=True)"
   ]
  },
  {
   "cell_type": "code",
   "execution_count": 89,
   "metadata": {},
   "outputs": [
    {
     "name": "stdout",
     "output_type": "stream",
     "text": [
      "Jogar\n",
      "nao    5\n",
      "sim    9\n",
      "dtype: int64 \n",
      "CAMPOS NULOS 0\n"
     ]
    }
   ],
   "source": [
    "# ANÁLISE DA COLUNA VENTO\n",
    "print(data.groupby(by=['Jogar']).size(),'\\nCAMPOS NULOS', data['Jogar'].isnull().sum())"
   ]
  }
 ],
 "metadata": {
  "kernelspec": {
   "display_name": "Python 3.10.4 ('venv': venv)",
   "language": "python",
   "name": "python3"
  },
  "language_info": {
   "codemirror_mode": {
    "name": "ipython",
    "version": 3
   },
   "file_extension": ".py",
   "mimetype": "text/x-python",
   "name": "python",
   "nbconvert_exporter": "python",
   "pygments_lexer": "ipython3",
   "version": "3.10.4"
  },
  "orig_nbformat": 4,
  "vscode": {
   "interpreter": {
    "hash": "8bebff10f57b9ed8edf244cd024b91b1cf1d5ea9e47fba0832a7f107465e3cbd"
   }
  }
 },
 "nbformat": 4,
 "nbformat_minor": 2
}
