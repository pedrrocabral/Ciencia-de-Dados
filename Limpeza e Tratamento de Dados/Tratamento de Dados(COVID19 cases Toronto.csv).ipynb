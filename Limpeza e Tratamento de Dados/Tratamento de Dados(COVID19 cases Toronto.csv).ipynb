{
 "cells": [
  {
   "cell_type": "code",
   "execution_count": 73,
   "metadata": {},
   "outputs": [],
   "source": [
    "import pandas as pd\n",
    "import seaborn as srn\n",
    "import statistics  as sts"
   ]
  },
  {
   "cell_type": "code",
   "execution_count": 74,
   "metadata": {},
   "outputs": [],
   "source": [
    "data = pd.read_csv(r'C:\\Cursos\\Formacao_Data_Science\\10.Prática em Python\\dados\\COVID19 cases Toronto.csv')"
   ]
  },
  {
   "cell_type": "code",
   "execution_count": 75,
   "metadata": {},
   "outputs": [],
   "source": [
    "# RENOMEANDO AS COLUNAS\n",
    "data.rename(columns={'_id': 'ID','Outbreak Associated': 'Surto Associado', 'Age Group': 'Idade', 'Neighbourhood Name': 'Bairro', 'FSA': 'FSA',\n",
    "'Source of Infection': 'Fonte de infecção', 'Classification': 'Classificação', 'Episode Date': 'Data do Episódio', 'Reported Date': 'Data Reportada',\n",
    "'Client Gender': 'Gênero', 'Outcome': 'Resultado', 'Currently Hospitalized': 'Atualmente hospitalizado', 'Currently in ICU': 'Atualmente na UTI',\n",
    "'Currently Intubated': 'Atualmente entubado', 'Ever Hospitalized': 'Já Hospitalizado', 'Ever in ICU': 'Sempre na UTI', 'Ever Intubated': 'Já intubado'}, \n",
    "inplace=True)"
   ]
  },
  {
   "cell_type": "code",
   "execution_count": 76,
   "metadata": {},
   "outputs": [
    {
     "name": "stdout",
     "output_type": "stream",
     "text": [
      "<class 'pandas.core.frame.DataFrame'>\n",
      "RangeIndex: 14911 entries, 0 to 14910\n",
      "Data columns (total 17 columns):\n",
      " #   Column                    Non-Null Count  Dtype \n",
      "---  ------                    --------------  ----- \n",
      " 0   ID                        14911 non-null  int64 \n",
      " 1   Surto Associado           14911 non-null  object\n",
      " 2   Idade                     14879 non-null  object\n",
      " 3   Bairro                    14298 non-null  object\n",
      " 4   FSA                       14344 non-null  object\n",
      " 5   Fonte de infecção         14911 non-null  object\n",
      " 6   Classificação             14911 non-null  object\n",
      " 7   Data do Episódio          14911 non-null  object\n",
      " 8   Data Reportada            14911 non-null  object\n",
      " 9   Gênero                    14911 non-null  object\n",
      " 10  Resultado                 14911 non-null  object\n",
      " 11  Atualmente hospitalizado  14911 non-null  object\n",
      " 12  Atualmente na UTI         14911 non-null  object\n",
      " 13  Atualmente entubado       14911 non-null  object\n",
      " 14  Já Hospitalizado          14911 non-null  object\n",
      " 15  Sempre na UTI             14911 non-null  object\n",
      " 16  Já intubado               14911 non-null  object\n",
      "dtypes: int64(1), object(16)\n",
      "memory usage: 1.9+ MB\n"
     ]
    }
   ],
   "source": [
    "# ANÁLISE DOS DADOS DA BASE DE DADOS\n",
    "data.info()"
   ]
  },
  {
   "cell_type": "code",
   "execution_count": 77,
   "metadata": {},
   "outputs": [
    {
     "data": {
      "text/plain": [
       "ID                            0\n",
       "Surto Associado               0\n",
       "Idade                        32\n",
       "Bairro                      613\n",
       "FSA                         567\n",
       "Fonte de infecção             0\n",
       "Classificação                 0\n",
       "Data do Episódio              0\n",
       "Data Reportada                0\n",
       "Gênero                        0\n",
       "Resultado                     0\n",
       "Atualmente hospitalizado      0\n",
       "Atualmente na UTI             0\n",
       "Atualmente entubado           0\n",
       "Já Hospitalizado              0\n",
       "Sempre na UTI                 0\n",
       "Já intubado                   0\n",
       "dtype: int64"
      ]
     },
     "execution_count": 77,
     "metadata": {},
     "output_type": "execute_result"
    }
   ],
   "source": [
    "# VERIFICAÇÃO DOS CAMPOS NULOS\n",
    "data.isnull().sum()"
   ]
  },
  {
   "cell_type": "code",
   "execution_count": 78,
   "metadata": {},
   "outputs": [
    {
     "data": {
      "text/html": [
       "<div>\n",
       "<style scoped>\n",
       "    .dataframe tbody tr th:only-of-type {\n",
       "        vertical-align: middle;\n",
       "    }\n",
       "\n",
       "    .dataframe tbody tr th {\n",
       "        vertical-align: top;\n",
       "    }\n",
       "\n",
       "    .dataframe thead th {\n",
       "        text-align: right;\n",
       "    }\n",
       "</style>\n",
       "<table border=\"1\" class=\"dataframe\">\n",
       "  <thead>\n",
       "    <tr style=\"text-align: right;\">\n",
       "      <th></th>\n",
       "      <th>ID</th>\n",
       "      <th>Surto Associado</th>\n",
       "      <th>Idade</th>\n",
       "      <th>Bairro</th>\n",
       "      <th>FSA</th>\n",
       "      <th>Fonte de infecção</th>\n",
       "      <th>Classificação</th>\n",
       "      <th>Data do Episódio</th>\n",
       "      <th>Data Reportada</th>\n",
       "      <th>Gênero</th>\n",
       "      <th>Resultado</th>\n",
       "      <th>Atualmente hospitalizado</th>\n",
       "      <th>Atualmente na UTI</th>\n",
       "      <th>Atualmente entubado</th>\n",
       "      <th>Já Hospitalizado</th>\n",
       "      <th>Sempre na UTI</th>\n",
       "      <th>Já intubado</th>\n",
       "    </tr>\n",
       "  </thead>\n",
       "  <tbody>\n",
       "  </tbody>\n",
       "</table>\n",
       "</div>"
      ],
      "text/plain": [
       "Empty DataFrame\n",
       "Columns: [ID, Surto Associado, Idade, Bairro, FSA, Fonte de infecção, Classificação, Data do Episódio, Data Reportada, Gênero, Resultado, Atualmente hospitalizado, Atualmente na UTI, Atualmente entubado, Já Hospitalizado, Sempre na UTI, Já intubado]\n",
       "Index: []"
      ]
     },
     "execution_count": 78,
     "metadata": {},
     "output_type": "execute_result"
    }
   ],
   "source": [
    "# VERIFICAÇÃO DE DUPLICATAS\n",
    "data[data.duplicated(['ID'],keep=False)]"
   ]
  },
  {
   "cell_type": "code",
   "execution_count": 79,
   "metadata": {},
   "outputs": [
    {
     "name": "stdout",
     "output_type": "stream",
     "text": [
      "Surto Associado\n",
      "Outbreak Associated    5578\n",
      "Sporadic               9333\n",
      "dtype: int64 \n",
      "\n",
      "CAMPOS NULOS: 0\n"
     ]
    }
   ],
   "source": [
    "# VERIFICAÇÃO DA COLUNA 'Surto Associado'\n",
    "print(data.groupby(by=['Surto Associado']).size(), '\\n\\nCAMPOS NULOS:', data['Surto Associado'].isnull().sum())"
   ]
  },
  {
   "cell_type": "code",
   "execution_count": 80,
   "metadata": {},
   "outputs": [
    {
     "name": "stdout",
     "output_type": "stream",
     "text": [
      "Idade\n",
      "19 and younger     915\n",
      "20-29             2135\n",
      "30-39             2101\n",
      "40-49             2095\n",
      "50-59             2354\n",
      "60-69             1598\n",
      "70-79             1052\n",
      "80-89             1531\n",
      "90+               1098\n",
      "dtype: int64 \n",
      "\n",
      "CAMPOS NULOS: 32\n"
     ]
    }
   ],
   "source": [
    "# VERIFICAÇÃO DA COLUNA 'Idade'\n",
    "print(data.groupby(by=['Idade']).size(), '\\n\\nCAMPOS NULOS:', data['Idade'].isnull().sum())"
   ]
  },
  {
   "cell_type": "code",
   "execution_count": 81,
   "metadata": {},
   "outputs": [],
   "source": [
    "# TRATAMENTO DOS DADOS DA COLUNA 'Idade'\n",
    "data['Idade'].fillna(sts.mode(data['Idade']), inplace=True)"
   ]
  },
  {
   "cell_type": "code",
   "execution_count": 82,
   "metadata": {},
   "outputs": [
    {
     "name": "stdout",
     "output_type": "stream",
     "text": [
      "Bairro\n",
      "Agincourt North                  79\n",
      "Agincourt South-Malvern West     52\n",
      "Alderwood                        40\n",
      "Annex                            83\n",
      "Banbury-Don Mills                37\n",
      "                               ... \n",
      "Wychwood                         79\n",
      "Yonge-Eglinton                   14\n",
      "Yonge-St.Clair                   26\n",
      "York University Heights         421\n",
      "Yorkdale-Glen Park              193\n",
      "Length: 140, dtype: int64 \n",
      "\n",
      "CAMPOS NULOS: 613\n"
     ]
    }
   ],
   "source": [
    "# VERIFICAÇÃO DA COLUNA 'Bairro'\n",
    "print(data.groupby(by=['Bairro']).size(), '\\n\\nCAMPOS NULOS:', data['Bairro'].isnull().sum())"
   ]
  },
  {
   "cell_type": "code",
   "execution_count": 83,
   "metadata": {},
   "outputs": [],
   "source": [
    "# TRATAMENTO DOS DADOS DA COLUNA 'Bairro'\n",
    "data['Bairro'].fillna(sts.mode(data.loc[data['Bairro'] != 'nan']), inplace=True)"
   ]
  },
  {
   "cell_type": "code",
   "execution_count": 84,
   "metadata": {},
   "outputs": [
    {
     "name": "stdout",
     "output_type": "stream",
     "text": [
      "FSA\n",
      "M1B    296\n",
      "M1C    232\n",
      "M1E    441\n",
      "M1G    212\n",
      "M1H     89\n",
      "      ... \n",
      "M9N    346\n",
      "M9P    245\n",
      "M9R    365\n",
      "M9V    850\n",
      "M9W    417\n",
      "Length: 96, dtype: int64 \n",
      "\n",
      "CAMPOS NULOS: 567\n"
     ]
    }
   ],
   "source": [
    "# VERIFICAÇÃO DA COLUNA 'FSA'\n",
    "print(data.groupby(by=['FSA']).size(), '\\n\\nCAMPOS NULOS:', data['FSA'].isnull().sum())"
   ]
  },
  {
   "cell_type": "code",
   "execution_count": 85,
   "metadata": {},
   "outputs": [],
   "source": [
    "# TRATAMENTO DOS DADOS DA COLUNA 'FSA'\n",
    "data['FSA'].fillna(sts.mode(data['FSA']), inplace=True)"
   ]
  },
  {
   "cell_type": "code",
   "execution_count": 86,
   "metadata": {},
   "outputs": [
    {
     "name": "stdout",
     "output_type": "stream",
     "text": [
      "Fonte de infecção\n",
      "Close contact                4998\n",
      "Community                    1991\n",
      "Healthcare                    897\n",
      "Institutional                 301\n",
      "N/A - Outbreak associated    5578\n",
      "Pending                       294\n",
      "Travel                        488\n",
      "Unknown/Missing               364\n",
      "dtype: int64 \n",
      "\n",
      "CAMPOS NULOS: 0\n"
     ]
    }
   ],
   "source": [
    "# VERIFICAÇÃO DA COLUNA 'Fonte de infecção'\n",
    "print(data.groupby(by=['Fonte de infecção']).size(), '\\n\\nCAMPOS NULOS:', data['Fonte de infecção'].isnull().sum())"
   ]
  },
  {
   "cell_type": "code",
   "execution_count": 87,
   "metadata": {},
   "outputs": [
    {
     "name": "stdout",
     "output_type": "stream",
     "text": [
      "Classificação\n",
      "CONFIRMED    13686\n",
      "PROBABLE      1225\n",
      "dtype: int64 \n",
      "\n",
      "CAMPOS NULOS: 0\n"
     ]
    }
   ],
   "source": [
    "# VERIFICAÇÃO DA COLUNA 'Classificação'\n",
    "print(data.groupby(by=['Classificação']).size(), '\\n\\nCAMPOS NULOS:', data['Classificação'].isnull().sum())"
   ]
  },
  {
   "cell_type": "code",
   "execution_count": 88,
   "metadata": {},
   "outputs": [
    {
     "name": "stdout",
     "output_type": "stream",
     "text": [
      "Data do Episódio\n",
      "2020-01-21     1\n",
      "2020-01-22     1\n",
      "2020-02-01     1\n",
      "2020-02-05     1\n",
      "2020-02-07     1\n",
      "              ..\n",
      "2020-07-09    20\n",
      "2020-07-10    21\n",
      "2020-07-11    19\n",
      "2020-07-12     9\n",
      "2020-07-13     1\n",
      "Length: 149, dtype: int64 \n",
      "\n",
      "CAMPOS NULOS: 0\n"
     ]
    }
   ],
   "source": [
    "# VERIFICAÇÃO DA COLUNA 'Data do Episódio '\n",
    "print(data.groupby(by=['Data do Episódio']).size(), '\\n\\nCAMPOS NULOS:', data['Data do Episódio'].isnull().sum())"
   ]
  },
  {
   "cell_type": "code",
   "execution_count": 89,
   "metadata": {},
   "outputs": [
    {
     "name": "stdout",
     "output_type": "stream",
     "text": [
      "Data Reportada\n",
      "2020-01-23     2\n",
      "2020-02-21     1\n",
      "2020-02-25     1\n",
      "2020-02-26     1\n",
      "2020-02-27     1\n",
      "              ..\n",
      "2020-07-09    58\n",
      "2020-07-10    41\n",
      "2020-07-11    40\n",
      "2020-07-12    36\n",
      "2020-07-13    10\n",
      "Length: 142, dtype: int64 \n",
      "\n",
      "CAMPOS NULOS: 0\n"
     ]
    }
   ],
   "source": [
    "# VERIFICAÇÃO DA COLUNA 'Data Reportada'\n",
    "print(data.groupby(by=['Data Reportada']).size(), '\\n\\nCAMPOS NULOS:', data['Data Reportada'].isnull().sum())"
   ]
  },
  {
   "cell_type": "code",
   "execution_count": 90,
   "metadata": {},
   "outputs": [
    {
     "name": "stdout",
     "output_type": "stream",
     "text": [
      "Gênero\n",
      "FEMALE         7909\n",
      "MALE           6747\n",
      "OTHER             6\n",
      "TRANSGENDER       7\n",
      "UNKNOWN         242\n",
      "dtype: int64 \n",
      "\n",
      "CAMPOS NULOS: 0\n"
     ]
    }
   ],
   "source": [
    "# VERIFICAÇÃO DA COLUNA 'Gênero'\n",
    "print(data.groupby(by=['Gênero']).size(), '\\n\\nCAMPOS NULOS:', data['Gênero'].isnull().sum())"
   ]
  },
  {
   "cell_type": "code",
   "execution_count": 91,
   "metadata": {},
   "outputs": [
    {
     "name": "stdout",
     "output_type": "stream",
     "text": [
      "Resultado\n",
      "ACTIVE        595\n",
      "FATAL        1121\n",
      "RESOLVED    13195\n",
      "dtype: int64 \n",
      "\n",
      "CAMPOS NULOS: 0\n"
     ]
    }
   ],
   "source": [
    "# VERIFICAÇÃO DA COLUNA 'Resultado'\n",
    "print(data.groupby(by=['Resultado']).size(), '\\n\\nCAMPOS NULOS:', data['Resultado'].isnull().sum())"
   ]
  },
  {
   "cell_type": "code",
   "execution_count": 92,
   "metadata": {},
   "outputs": [
    {
     "name": "stdout",
     "output_type": "stream",
     "text": [
      "Atualmente hospitalizado\n",
      "No     14760\n",
      "Yes      151\n",
      "dtype: int64 \n",
      "\n",
      "CAMPOS NULOS: 0\n"
     ]
    }
   ],
   "source": [
    "# VERIFICAÇÃO DA COLUNA 'Atualmente hospitalizado'\n",
    "print(data.groupby(by=['Atualmente hospitalizado']).size(), '\\n\\nCAMPOS NULOS:', data['Atualmente hospitalizado'].isnull().sum())"
   ]
  },
  {
   "cell_type": "code",
   "execution_count": 93,
   "metadata": {},
   "outputs": [
    {
     "name": "stdout",
     "output_type": "stream",
     "text": [
      "Atualmente na UTI\n",
      "No     14882\n",
      "Yes       29\n",
      "dtype: int64 \n",
      "\n",
      "CAMPOS NULOS: 0\n"
     ]
    }
   ],
   "source": [
    "# VERIFICAÇÃO DA COLUNA 'Atualmente na UTI'\n",
    "print(data.groupby(by=['Atualmente na UTI']).size(), '\\n\\nCAMPOS NULOS:', data['Atualmente na UTI'].isnull().sum())"
   ]
  },
  {
   "cell_type": "code",
   "execution_count": 95,
   "metadata": {},
   "outputs": [
    {
     "name": "stdout",
     "output_type": "stream",
     "text": [
      "Atualmente entubado\n",
      "No     14886\n",
      "Yes       25\n",
      "dtype: int64 \n",
      "\n",
      "CAMPOS NULOS: 0\n"
     ]
    }
   ],
   "source": [
    "# VERIFICAÇÃO DA COLUNA 'Atualmente entubado'\n",
    "print(data.groupby(by=['Atualmente entubado']).size(), '\\n\\nCAMPOS NULOS:', data['Atualmente entubado'].isnull().sum())"
   ]
  },
  {
   "cell_type": "code",
   "execution_count": 96,
   "metadata": {},
   "outputs": [
    {
     "name": "stdout",
     "output_type": "stream",
     "text": [
      "Já Hospitalizado\n",
      "No     13063\n",
      "Yes     1848\n",
      "dtype: int64 \n",
      "\n",
      "CAMPOS NULOS: 0\n"
     ]
    }
   ],
   "source": [
    "# VERIFICAÇÃO DA COLUNA 'Já Hospitalizado'\n",
    "print(data.groupby(by=['Já Hospitalizado']).size(), '\\n\\nCAMPOS NULOS:', data['Já Hospitalizado'].isnull().sum())"
   ]
  },
  {
   "cell_type": "code",
   "execution_count": 97,
   "metadata": {},
   "outputs": [
    {
     "name": "stdout",
     "output_type": "stream",
     "text": [
      "Sempre na UTI\n",
      "No     14511\n",
      "Yes      400\n",
      "dtype: int64 \n",
      "\n",
      "CAMPOS NULOS: 0\n"
     ]
    }
   ],
   "source": [
    "# VERIFICAÇÃO DA COLUNA 'Sempre na UTI'\n",
    "print(data.groupby(by=['Sempre na UTI']).size(), '\\n\\nCAMPOS NULOS:', data['Sempre na UTI'].isnull().sum())"
   ]
  },
  {
   "cell_type": "code",
   "execution_count": 100,
   "metadata": {},
   "outputs": [
    {
     "name": "stdout",
     "output_type": "stream",
     "text": [
      "Já intubado\n",
      "No     14624\n",
      "Yes      287\n",
      "dtype: int64 \n",
      "\n",
      "CAMPOS NULOS: 0\n"
     ]
    }
   ],
   "source": [
    "# VERIFICAÇÃO DA COLUNA 'Já intubado'\n",
    "print(data.groupby(by=['Já intubado']).size(), '\\n\\nCAMPOS NULOS:', data['Já intubado'].isnull().sum())"
   ]
  },
  {
   "cell_type": "code",
   "execution_count": 99,
   "metadata": {},
   "outputs": [
    {
     "data": {
      "text/plain": [
       "ID                          0\n",
       "Surto Associado             0\n",
       "Idade                       0\n",
       "Bairro                      0\n",
       "FSA                         0\n",
       "Fonte de infecção           0\n",
       "Classificação               0\n",
       "Data do Episódio            0\n",
       "Data Reportada              0\n",
       "Gênero                      0\n",
       "Resultado                   0\n",
       "Atualmente hospitalizado    0\n",
       "Atualmente na UTI           0\n",
       "Atualmente entubado         0\n",
       "Já Hospitalizado            0\n",
       "Sempre na UTI               0\n",
       "Já intubado                 0\n",
       "dtype: int64"
      ]
     },
     "execution_count": 99,
     "metadata": {},
     "output_type": "execute_result"
    }
   ],
   "source": [
    "data.isnull().sum()"
   ]
  },
  {
   "cell_type": "code",
   "execution_count": 101,
   "metadata": {},
   "outputs": [
    {
     "name": "stdout",
     "output_type": "stream",
     "text": [
      "<class 'pandas.core.frame.DataFrame'>\n",
      "RangeIndex: 14911 entries, 0 to 14910\n",
      "Data columns (total 17 columns):\n",
      " #   Column                    Non-Null Count  Dtype \n",
      "---  ------                    --------------  ----- \n",
      " 0   ID                        14911 non-null  int64 \n",
      " 1   Surto Associado           14911 non-null  object\n",
      " 2   Idade                     14911 non-null  object\n",
      " 3   Bairro                    14911 non-null  object\n",
      " 4   FSA                       14911 non-null  object\n",
      " 5   Fonte de infecção         14911 non-null  object\n",
      " 6   Classificação             14911 non-null  object\n",
      " 7   Data do Episódio          14911 non-null  object\n",
      " 8   Data Reportada            14911 non-null  object\n",
      " 9   Gênero                    14911 non-null  object\n",
      " 10  Resultado                 14911 non-null  object\n",
      " 11  Atualmente hospitalizado  14911 non-null  object\n",
      " 12  Atualmente na UTI         14911 non-null  object\n",
      " 13  Atualmente entubado       14911 non-null  object\n",
      " 14  Já Hospitalizado          14911 non-null  object\n",
      " 15  Sempre na UTI             14911 non-null  object\n",
      " 16  Já intubado               14911 non-null  object\n",
      "dtypes: int64(1), object(16)\n",
      "memory usage: 1.9+ MB\n"
     ]
    }
   ],
   "source": [
    "data.info()"
   ]
  }
 ],
 "metadata": {
  "kernelspec": {
   "display_name": "Python 3.10.4 ('venv': venv)",
   "language": "python",
   "name": "python3"
  },
  "language_info": {
   "codemirror_mode": {
    "name": "ipython",
    "version": 3
   },
   "file_extension": ".py",
   "mimetype": "text/x-python",
   "name": "python",
   "nbconvert_exporter": "python",
   "pygments_lexer": "ipython3",
   "version": "3.10.4"
  },
  "orig_nbformat": 4,
  "vscode": {
   "interpreter": {
    "hash": "8bebff10f57b9ed8edf244cd024b91b1cf1d5ea9e47fba0832a7f107465e3cbd"
   }
  }
 },
 "nbformat": 4,
 "nbformat_minor": 2
}
